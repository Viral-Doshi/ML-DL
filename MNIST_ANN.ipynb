{
  "nbformat": 4,
  "nbformat_minor": 0,
  "metadata": {
    "colab": {
      "name": "MNIST_ANN.ipynb",
      "provenance": [],
      "collapsed_sections": []
    },
    "kernelspec": {
      "name": "python3",
      "display_name": "Python 3"
    },
    "accelerator": "GPU"
  },
  "cells": [
    {
      "cell_type": "code",
      "metadata": {
        "id": "k1SrotGwaoB0",
        "colab": {
          "base_uri": "https://localhost:8080/"
        },
        "outputId": "8cd8f110-196b-41b8-c32b-50ca4ed65942"
      },
      "source": [
        "# Install TensorFlow\n",
        "# !pip install -q tensorflow-gpu==2.0.0-beta1\n",
        "\n",
        "try:\n",
        "  %tensorflow_version 2.x  # Colab only.\n",
        "except Exception:\n",
        "  pass\n",
        "\n",
        "import tensorflow as tf\n",
        "print(tf.__version__)"
      ],
      "execution_count": 1,
      "outputs": [
        {
          "output_type": "stream",
          "text": [
            "`%tensorflow_version` only switches the major version: 1.x or 2.x.\n",
            "You set: `2.x  # Colab only.`. This will be interpreted as: `2.x`.\n",
            "\n",
            "\n",
            "TensorFlow 2.x selected.\n",
            "2.4.0\n"
          ],
          "name": "stdout"
        }
      ]
    },
    {
      "cell_type": "code",
      "metadata": {
        "id": "1J1kPjvrazt6",
        "colab": {
          "base_uri": "https://localhost:8080/"
        },
        "outputId": "b66b14a7-dc0c-443d-c7ca-9a607a5227a3"
      },
      "source": [
        "# Load in the data\n",
        "mnist = tf.keras.datasets.mnist\n",
        "\n",
        "(x_train, y_train), (x_test, y_test) = mnist.load_data()\n",
        "x_train, x_test = x_train / 255.0, x_test / 255.0\n",
        "print(\"x_train.shape:\", x_train.shape)"
      ],
      "execution_count": 2,
      "outputs": [
        {
          "output_type": "stream",
          "text": [
            "Downloading data from https://storage.googleapis.com/tensorflow/tf-keras-datasets/mnist.npz\n",
            "11493376/11490434 [==============================] - 0s 0us/step\n",
            "x_train.shape: (60000, 28, 28)\n"
          ],
          "name": "stdout"
        }
      ]
    },
    {
      "cell_type": "code",
      "metadata": {
        "id": "VEHJi0xXa2ar"
      },
      "source": [
        "# Build the model\n",
        "model = tf.keras.models.Sequential([\n",
        "  tf.keras.layers.Flatten(input_shape=(28, 28)),\n",
        "  tf.keras.layers.Dense(128, activation='relu'),\n",
        "  tf.keras.layers.Dropout(0.2),\n",
        "  tf.keras.layers.Dense(10, activation='softmax')\n",
        "])"
      ],
      "execution_count": 3,
      "outputs": []
    },
    {
      "cell_type": "code",
      "metadata": {
        "id": "hdXbXw92a9BA"
      },
      "source": [
        "# Compile the model\n",
        "model.compile(optimizer='adam',\n",
        "              loss='sparse_categorical_crossentropy',\n",
        "              metrics=['accuracy'])"
      ],
      "execution_count": 4,
      "outputs": []
    },
    {
      "cell_type": "code",
      "metadata": {
        "id": "53vcyL3abEMk",
        "colab": {
          "base_uri": "https://localhost:8080/"
        },
        "outputId": "68abd0e5-5463-4363-c485-cf58c1ca7c12"
      },
      "source": [
        "# Train the model\n",
        "r = model.fit(x_train, y_train, validation_data=(x_test, y_test), epochs=10)"
      ],
      "execution_count": 5,
      "outputs": [
        {
          "output_type": "stream",
          "text": [
            "Epoch 1/10\n",
            "1875/1875 [==============================] - 6s 2ms/step - loss: 0.4892 - accuracy: 0.8602 - val_loss: 0.1480 - val_accuracy: 0.9540\n",
            "Epoch 2/10\n",
            "1875/1875 [==============================] - 4s 2ms/step - loss: 0.1543 - accuracy: 0.9548 - val_loss: 0.1030 - val_accuracy: 0.9696\n",
            "Epoch 3/10\n",
            "1875/1875 [==============================] - 4s 2ms/step - loss: 0.1076 - accuracy: 0.9676 - val_loss: 0.0834 - val_accuracy: 0.9734\n",
            "Epoch 4/10\n",
            "1875/1875 [==============================] - 4s 2ms/step - loss: 0.0884 - accuracy: 0.9719 - val_loss: 0.0751 - val_accuracy: 0.9765\n",
            "Epoch 5/10\n",
            "1875/1875 [==============================] - 4s 2ms/step - loss: 0.0764 - accuracy: 0.9764 - val_loss: 0.0743 - val_accuracy: 0.9762\n",
            "Epoch 6/10\n",
            "1875/1875 [==============================] - 4s 2ms/step - loss: 0.0617 - accuracy: 0.9796 - val_loss: 0.0718 - val_accuracy: 0.9782\n",
            "Epoch 7/10\n",
            "1875/1875 [==============================] - 4s 2ms/step - loss: 0.0564 - accuracy: 0.9819 - val_loss: 0.0775 - val_accuracy: 0.9772\n",
            "Epoch 8/10\n",
            "1875/1875 [==============================] - 4s 2ms/step - loss: 0.0519 - accuracy: 0.9828 - val_loss: 0.0717 - val_accuracy: 0.9784\n",
            "Epoch 9/10\n",
            "1875/1875 [==============================] - 4s 2ms/step - loss: 0.0454 - accuracy: 0.9847 - val_loss: 0.0751 - val_accuracy: 0.9774\n",
            "Epoch 10/10\n",
            "1875/1875 [==============================] - 4s 2ms/step - loss: 0.0429 - accuracy: 0.9867 - val_loss: 0.0764 - val_accuracy: 0.9772\n"
          ],
          "name": "stdout"
        }
      ]
    },
    {
      "cell_type": "code",
      "metadata": {
        "id": "YmuEUz_abG2G",
        "colab": {
          "base_uri": "https://localhost:8080/",
          "height": 282
        },
        "outputId": "e3615b76-f3d9-466a-b509-d3f59064c25b"
      },
      "source": [
        "# Plot loss per iteration\n",
        "import matplotlib.pyplot as plt\n",
        "plt.plot(r.history['loss'], label='loss')\n",
        "plt.plot(r.history['val_loss'], label='val_loss')\n",
        "plt.legend()"
      ],
      "execution_count": 6,
      "outputs": [
        {
          "output_type": "execute_result",
          "data": {
            "text/plain": [
              "<matplotlib.legend.Legend at 0x7f56da2f52b0>"
            ]
          },
          "metadata": {
            "tags": []
          },
          "execution_count": 6
        },
        {
          "output_type": "display_data",
          "data": {
            "image/png": "[encoded data removed]",
            "text/plain": [
              "<Figure size 432x288 with 1 Axes>"
            ]
          },
          "metadata": {
            "tags": [],
            "needs_background": "light"
          }
        }
      ]
    },
    {
      "cell_type": "code",
      "metadata": {
        "id": "OZ_O_sQwbPpi",
        "colab": {
          "base_uri": "https://localhost:8080/",
          "height": 282
        },
        "outputId": "0edd39ee-6074-4497-9aa4-bc6d5adae1bf"
      },
      "source": [
        "# Plot accuracy per iteration\n",
        "plt.plot(r.history['accuracy'], label='acc')\n",
        "plt.plot(r.history['val_accuracy'], label='val_acc')\n",
        "plt.legend()"
      ],
      "execution_count": 7,
      "outputs": [
        {
          "output_type": "execute_result",
          "data": {
            "text/plain": [
              "<matplotlib.legend.Legend at 0x7f56da2b1080>"
            ]
          },
          "metadata": {
            "tags": []
          },
          "execution_count": 7
        },
        {
          "output_type": "display_data",
          "data": {
            "image/png": "[encoded data removed]",
            "text/plain": [
              "<Figure size 432x288 with 1 Axes>"
            ]
          },
          "metadata": {
            "tags": [],
            "needs_background": "light"
          }
        }
      ]
    },
    {
      "cell_type": "code",
      "metadata": {
        "id": "fKA7MzMMbS4f",
        "colab": {
          "base_uri": "https://localhost:8080/"
        },
        "outputId": "6d8e5385-76f1-4475-ed3c-af57018b3bc6"
      },
      "source": [
        "# Evaluate the model\n",
        "print(model.evaluate(x_test, y_test))"
      ],
      "execution_count": 8,
      "outputs": [
        {
          "output_type": "stream",
          "text": [
            "313/313 [==============================] - 1s 2ms/step - loss: 0.0764 - accuracy: 0.9772\n",
            "[0.07643315941095352, 0.9771999716758728]\n"
          ],
          "name": "stdout"
        }
      ]
    },
    {
      "cell_type": "code",
      "metadata": {
        "id": "pcSvHrAFbVR4",
        "colab": {
          "base_uri": "https://localhost:8080/",
          "height": 498
        },
        "outputId": "d3e50c27-9893-4632-bae4-5a36c883355c"
      },
      "source": [
        "# Plot confusion matrix\n",
        "from sklearn.metrics import confusion_matrix\n",
        "import numpy as np\n",
        "import itertools\n",
        "\n",
        "def plot_confusion_matrix(cm, classes,\n",
        "                          normalize=False,\n",
        "                          title='Confusion matrix',\n",
        "                          cmap=plt.cm.Blues):\n",
        "  \"\"\"\n",
        "  This function prints and plots the confusion matrix.\n",
        "  Normalization can be applied by setting `normalize=True`.\n",
        "  \"\"\"\n",
        "  if normalize:\n",
        "      cm = cm.astype('float') / cm.sum(axis=1)[:, np.newaxis]\n",
        "      print(\"Normalized confusion matrix\")\n",
        "  else:\n",
        "      print('Confusion matrix, without normalization')\n",
        "\n",
        "  print(cm)\n",
        "\n",
        "  plt.imshow(cm, interpolation='nearest', cmap=cmap)\n",
        "  plt.title(title)\n",
        "  plt.colorbar()\n",
        "  tick_marks = np.arange(len(classes))\n",
        "  plt.xticks(tick_marks, classes, rotation=45)\n",
        "  plt.yticks(tick_marks, classes)\n",
        "\n",
        "  fmt = '.2f' if normalize else 'd'\n",
        "  thresh = cm.max() / 2.\n",
        "  for i, j in itertools.product(range(cm.shape[0]), range(cm.shape[1])):\n",
        "      plt.text(j, i, format(cm[i, j], fmt),\n",
        "               horizontalalignment=\"center\",\n",
        "               color=\"white\" if cm[i, j] > thresh else \"black\")\n",
        "\n",
        "  plt.tight_layout()\n",
        "  plt.ylabel('True label')\n",
        "  plt.xlabel('Predicted label')\n",
        "  plt.show()\n",
        "\n",
        "\n",
        "p_test = model.predict(x_test).argmax(axis=1)\n",
        "cm = confusion_matrix(y_test, p_test)\n",
        "plot_confusion_matrix(cm, list(range(10)))\n",
        "\n",
        "# Do these results make sense?\n",
        "# It's easy to confuse 9 <--> 4, 9 <--> 7, 2 <--> 7, etc. "
      ],
      "execution_count": 9,
      "outputs": [
        {
          "output_type": "stream",
          "text": [
            "Confusion matrix, without normalization\n",
            "[[ 968    0    3    0    1    0    1    1    3    3]\n",
            " [   0 1117    6    0    0    0    3    0    9    0]\n",
            " [   5    0 1011    1    2    0    3    5    4    1]\n",
            " [   0    0    5  981    0    6    0    4    6    8]\n",
            " [   0    0    2    0  968    0    3    0    0    9]\n",
            " [   2    0    0    6    2  870    1    1    8    2]\n",
            " [   6    2    2    1   12    6  927    0    2    0]\n",
            " [   2    3   18    5    2    0    0  988    3    7]\n",
            " [   0    0    5    4    3    3    0    3  954    2]\n",
            " [   3    2    0    2    6    2    0    3    3  988]]\n"
          ],
          "name": "stdout"
        },
        {
          "output_type": "display_data",
          "data": {
            "image/png": "[encoded data removed]",
            "text/plain": [
              "<Figure size 432x288 with 2 Axes>"
            ]
          },
          "metadata": {
            "tags": [],
            "needs_background": "light"
          }
        }
      ]
    },
    {
      "cell_type": "code",
      "metadata": {
        "id": "QyTLFozCbWtd",
        "colab": {
          "base_uri": "https://localhost:8080/",
          "height": 281
        },
        "outputId": "1c2ca53b-4217-4839-a4bf-a10a25bfec41"
      },
      "source": [
        "# Show some misclassified examples\n",
        "misclassified_idx = np.where(p_test != y_test)[0]\n",
        "i = np.random.choice(misclassified_idx)\n",
        "plt.imshow(x_test[i], cmap='gray')\n",
        "plt.title(\"True label: %s Predicted: %s\" % (y_test[i], p_test[i]));"
      ],
      "execution_count": 10,
      "outputs": [
        {
          "output_type": "display_data",
          "data": {
            "image/png": "[encoded data removed]",
            "text/plain": [
              "<Figure size 432x288 with 1 Axes>"
            ]
          },
          "metadata": {
            "tags": [],
            "needs_background": "light"
          }
        }
      ]
    },
    {
      "cell_type": "code",
      "metadata": {
        "id": "0RGR-FQNqSgp"
      },
      "source": [
        "model1 = tf.keras.models.Sequential([\r\n",
        "  tf.keras.layers.Flatten(input_shape=(28, 28)),\r\n",
        "  tf.keras.layers.Dense(256, activation='relu'),\r\n",
        "  tf.keras.layers.Dropout(0.4),\r\n",
        "  tf.keras.layers.Dense(128, activation='relu'),\r\n",
        "  tf.keras.layers.Dropout(0.4),\r\n",
        "  tf.keras.layers.Dense(64, activation='relu'),\r\n",
        "  tf.keras.layers.Dropout(0.4),\r\n",
        "  tf.keras.layers.Dense(10, activation='softmax')\r\n",
        "])"
      ],
      "execution_count": 11,
      "outputs": []
    },
    {
      "cell_type": "code",
      "metadata": {
        "id": "jOYSqbbWqnkl"
      },
      "source": [
        "model1.compile(optimizer='adam',\r\n",
        "              loss='sparse_categorical_crossentropy',\r\n",
        "              metrics=['accuracy'])"
      ],
      "execution_count": 12,
      "outputs": []
    },
    {
      "cell_type": "code",
      "metadata": {
        "id": "piba8eNcqvGt",
        "colab": {
          "base_uri": "https://localhost:8080/"
        },
        "outputId": "8c0a2507-c3f9-48c7-b6cd-c2f4b321794b"
      },
      "source": [
        "r = model1.fit(x_train, y_train, validation_data=(x_test, y_test), epochs=50)"
      ],
      "execution_count": 13,
      "outputs": [
        {
          "output_type": "stream",
          "text": [
            "Epoch 1/50\n",
            "1875/1875 [==============================] - 5s 2ms/step - loss: 0.7634 - accuracy: 0.7525 - val_loss: 0.1563 - val_accuracy: 0.9559\n",
            "Epoch 2/50\n",
            "1875/1875 [==============================] - 4s 2ms/step - loss: 0.2427 - accuracy: 0.9346 - val_loss: 0.1165 - val_accuracy: 0.9660\n",
            "Epoch 3/50\n",
            "1875/1875 [==============================] - 4s 2ms/step - loss: 0.1869 - accuracy: 0.9500 - val_loss: 0.1093 - val_accuracy: 0.9671\n",
            "Epoch 4/50\n",
            "1875/1875 [==============================] - 4s 2ms/step - loss: 0.1534 - accuracy: 0.9573 - val_loss: 0.0977 - val_accuracy: 0.9719\n",
            "Epoch 5/50\n",
            "1875/1875 [==============================] - 4s 2ms/step - loss: 0.1456 - accuracy: 0.9611 - val_loss: 0.0883 - val_accuracy: 0.9751\n",
            "Epoch 6/50\n",
            "1875/1875 [==============================] - 4s 2ms/step - loss: 0.1338 - accuracy: 0.9634 - val_loss: 0.0856 - val_accuracy: 0.9767\n",
            "Epoch 7/50\n",
            "1875/1875 [==============================] - 4s 2ms/step - loss: 0.1170 - accuracy: 0.9679 - val_loss: 0.0812 - val_accuracy: 0.9776\n",
            "Epoch 8/50\n",
            "1875/1875 [==============================] - 4s 2ms/step - loss: 0.1164 - accuracy: 0.9671 - val_loss: 0.0936 - val_accuracy: 0.9750\n",
            "Epoch 9/50\n",
            "1875/1875 [==============================] - 4s 2ms/step - loss: 0.1054 - accuracy: 0.9711 - val_loss: 0.0805 - val_accuracy: 0.9775\n",
            "Epoch 10/50\n",
            "1875/1875 [==============================] - 4s 2ms/step - loss: 0.1019 - accuracy: 0.9711 - val_loss: 0.0869 - val_accuracy: 0.9761\n",
            "Epoch 11/50\n",
            "1875/1875 [==============================] - 4s 2ms/step - loss: 0.0918 - accuracy: 0.9740 - val_loss: 0.0816 - val_accuracy: 0.9791\n",
            "Epoch 12/50\n",
            "1875/1875 [==============================] - 4s 2ms/step - loss: 0.0937 - accuracy: 0.9738 - val_loss: 0.0895 - val_accuracy: 0.9760\n",
            "Epoch 13/50\n",
            "1875/1875 [==============================] - 4s 2ms/step - loss: 0.0891 - accuracy: 0.9752 - val_loss: 0.0828 - val_accuracy: 0.9799\n",
            "Epoch 14/50\n",
            "1875/1875 [==============================] - 4s 2ms/step - loss: 0.0858 - accuracy: 0.9759 - val_loss: 0.0817 - val_accuracy: 0.9801\n",
            "Epoch 15/50\n",
            "1875/1875 [==============================] - 4s 2ms/step - loss: 0.0849 - accuracy: 0.9754 - val_loss: 0.0815 - val_accuracy: 0.9795\n",
            "Epoch 16/50\n",
            "1875/1875 [==============================] - 4s 2ms/step - loss: 0.0804 - accuracy: 0.9775 - val_loss: 0.0815 - val_accuracy: 0.9803\n",
            "Epoch 17/50\n",
            "1875/1875 [==============================] - 4s 2ms/step - loss: 0.0800 - accuracy: 0.9781 - val_loss: 0.0785 - val_accuracy: 0.9803\n",
            "Epoch 18/50\n",
            "1875/1875 [==============================] - 4s 2ms/step - loss: 0.0808 - accuracy: 0.9774 - val_loss: 0.0725 - val_accuracy: 0.9817\n",
            "Epoch 19/50\n",
            "1875/1875 [==============================] - 4s 2ms/step - loss: 0.0747 - accuracy: 0.9790 - val_loss: 0.0741 - val_accuracy: 0.9808\n",
            "Epoch 20/50\n",
            "1875/1875 [==============================] - 4s 2ms/step - loss: 0.0691 - accuracy: 0.9803 - val_loss: 0.0893 - val_accuracy: 0.9785\n",
            "Epoch 21/50\n",
            "1875/1875 [==============================] - 4s 2ms/step - loss: 0.0714 - accuracy: 0.9800 - val_loss: 0.0843 - val_accuracy: 0.9800\n",
            "Epoch 22/50\n",
            "1875/1875 [==============================] - 4s 2ms/step - loss: 0.0714 - accuracy: 0.9797 - val_loss: 0.0743 - val_accuracy: 0.9816\n",
            "Epoch 23/50\n",
            "1875/1875 [==============================] - 4s 2ms/step - loss: 0.0660 - accuracy: 0.9814 - val_loss: 0.0788 - val_accuracy: 0.9813\n",
            "Epoch 24/50\n",
            "1875/1875 [==============================] - 4s 2ms/step - loss: 0.0636 - accuracy: 0.9825 - val_loss: 0.0881 - val_accuracy: 0.9812\n",
            "Epoch 25/50\n",
            "1875/1875 [==============================] - 4s 2ms/step - loss: 0.0630 - accuracy: 0.9821 - val_loss: 0.0768 - val_accuracy: 0.9812\n",
            "Epoch 26/50\n",
            "1875/1875 [==============================] - 4s 2ms/step - loss: 0.0625 - accuracy: 0.9826 - val_loss: 0.1003 - val_accuracy: 0.9801\n",
            "Epoch 27/50\n",
            "1875/1875 [==============================] - 4s 2ms/step - loss: 0.0658 - accuracy: 0.9820 - val_loss: 0.0833 - val_accuracy: 0.9804\n",
            "Epoch 28/50\n",
            "1875/1875 [==============================] - 4s 2ms/step - loss: 0.0627 - accuracy: 0.9827 - val_loss: 0.0911 - val_accuracy: 0.9812\n",
            "Epoch 29/50\n",
            "1875/1875 [==============================] - 4s 2ms/step - loss: 0.0558 - accuracy: 0.9837 - val_loss: 0.0807 - val_accuracy: 0.9809\n",
            "Epoch 30/50\n",
            "1875/1875 [==============================] - 4s 2ms/step - loss: 0.0605 - accuracy: 0.9835 - val_loss: 0.0850 - val_accuracy: 0.9808\n",
            "Epoch 31/50\n",
            "1875/1875 [==============================] - 4s 2ms/step - loss: 0.0589 - accuracy: 0.9828 - val_loss: 0.0893 - val_accuracy: 0.9809\n",
            "Epoch 32/50\n",
            "1875/1875 [==============================] - 4s 2ms/step - loss: 0.0597 - accuracy: 0.9840 - val_loss: 0.0855 - val_accuracy: 0.9823\n",
            "Epoch 33/50\n",
            "1875/1875 [==============================] - 4s 2ms/step - loss: 0.0570 - accuracy: 0.9849 - val_loss: 0.0764 - val_accuracy: 0.9819\n",
            "Epoch 34/50\n",
            "1875/1875 [==============================] - 4s 2ms/step - loss: 0.0546 - accuracy: 0.9854 - val_loss: 0.0891 - val_accuracy: 0.9825\n",
            "Epoch 35/50\n",
            "1875/1875 [==============================] - 4s 2ms/step - loss: 0.0573 - accuracy: 0.9837 - val_loss: 0.0906 - val_accuracy: 0.9823\n",
            "Epoch 36/50\n",
            "1875/1875 [==============================] - 4s 2ms/step - loss: 0.0623 - accuracy: 0.9828 - val_loss: 0.0885 - val_accuracy: 0.9825\n",
            "Epoch 37/50\n",
            "1875/1875 [==============================] - 4s 2ms/step - loss: 0.0501 - accuracy: 0.9860 - val_loss: 0.0938 - val_accuracy: 0.9812\n",
            "Epoch 38/50\n",
            "1875/1875 [==============================] - 4s 2ms/step - loss: 0.0535 - accuracy: 0.9855 - val_loss: 0.0886 - val_accuracy: 0.9821\n",
            "Epoch 39/50\n",
            "1875/1875 [==============================] - 4s 2ms/step - loss: 0.0536 - accuracy: 0.9849 - val_loss: 0.0895 - val_accuracy: 0.9829\n",
            "Epoch 40/50\n",
            "1875/1875 [==============================] - 4s 2ms/step - loss: 0.0483 - accuracy: 0.9863 - val_loss: 0.0918 - val_accuracy: 0.9808\n",
            "Epoch 41/50\n",
            "1875/1875 [==============================] - 4s 2ms/step - loss: 0.0490 - accuracy: 0.9869 - val_loss: 0.0962 - val_accuracy: 0.9812\n",
            "Epoch 42/50\n",
            "1875/1875 [==============================] - 4s 2ms/step - loss: 0.0476 - accuracy: 0.9861 - val_loss: 0.1068 - val_accuracy: 0.9814\n",
            "Epoch 43/50\n",
            "1875/1875 [==============================] - 4s 2ms/step - loss: 0.0516 - accuracy: 0.9850 - val_loss: 0.0962 - val_accuracy: 0.9816\n",
            "Epoch 44/50\n",
            "1875/1875 [==============================] - 4s 2ms/step - loss: 0.0476 - accuracy: 0.9860 - val_loss: 0.0895 - val_accuracy: 0.9823\n",
            "Epoch 45/50\n",
            "1875/1875 [==============================] - 4s 2ms/step - loss: 0.0452 - accuracy: 0.9875 - val_loss: 0.0960 - val_accuracy: 0.9813\n",
            "Epoch 46/50\n",
            "1875/1875 [==============================] - 4s 2ms/step - loss: 0.0498 - accuracy: 0.9872 - val_loss: 0.1011 - val_accuracy: 0.9810\n",
            "Epoch 47/50\n",
            "1875/1875 [==============================] - 4s 2ms/step - loss: 0.0487 - accuracy: 0.9870 - val_loss: 0.1269 - val_accuracy: 0.9806\n",
            "Epoch 48/50\n",
            "1875/1875 [==============================] - 4s 2ms/step - loss: 0.0472 - accuracy: 0.9878 - val_loss: 0.1055 - val_accuracy: 0.9818\n",
            "Epoch 49/50\n",
            "1875/1875 [==============================] - 4s 2ms/step - loss: 0.0490 - accuracy: 0.9862 - val_loss: 0.1058 - val_accuracy: 0.9827\n",
            "Epoch 50/50\n",
            "1875/1875 [==============================] - 4s 2ms/step - loss: 0.0438 - accuracy: 0.9878 - val_loss: 0.0995 - val_accuracy: 0.9816\n"
          ],
          "name": "stdout"
        }
      ]
    },
    {
      "cell_type": "code",
      "metadata": {
        "id": "2ar32efMrUye",
        "colab": {
          "base_uri": "https://localhost:8080/",
          "height": 282
        },
        "outputId": "50ba59a9-ae26-4621-d7bf-5d565a069f64"
      },
      "source": [
        "\r\n",
        "plt.plot(r.history['loss'], label='loss')\r\n",
        "plt.plot(r.history['val_loss'], label='val_loss')\r\n",
        "plt.legend()"
      ],
      "execution_count": 14,
      "outputs": [
        {
          "output_type": "execute_result",
          "data": {
            "text/plain": [
              "<matplotlib.legend.Legend at 0x7f574237f518>"
            ]
          },
          "metadata": {
            "tags": []
          },
          "execution_count": 14
        },
        {
          "output_type": "display_data",
          "data": {
            "image/png": "[encoded data removed]",
            "text/plain": [
              "<Figure size 432x288 with 1 Axes>"
            ]
          },
          "metadata": {
            "tags": [],
            "needs_background": "light"
          }
        }
      ]
    },
    {
      "cell_type": "code",
      "metadata": {
        "colab": {
          "base_uri": "https://localhost:8080/",
          "height": 282
        },
        "id": "Icrqx_0js4Fl",
        "outputId": "df23fc0f-3d87-4472-e9ab-b2622da5df5e"
      },
      "source": [
        "plt.plot(r.history['accuracy'], label='acc')\r\n",
        "plt.plot(r.history['val_accuracy'], label='val_acc')\r\n",
        "plt.legend()"
      ],
      "execution_count": 15,
      "outputs": [
        {
          "output_type": "execute_result",
          "data": {
            "text/plain": [
              "<matplotlib.legend.Legend at 0x7f56ba9a4e10>"
            ]
          },
          "metadata": {
            "tags": []
          },
          "execution_count": 15
        },
        {
          "output_type": "display_data",
          "data": {
            "image/png": "[encoded data removed]",
            "text/plain": [
              "<Figure size 432x288 with 1 Axes>"
            ]
          },
          "metadata": {
            "tags": [],
            "needs_background": "light"
          }
        }
      ]
    },
    {
      "cell_type": "code",
      "metadata": {
        "colab": {
          "base_uri": "https://localhost:8080/"
        },
        "id": "xRaWi_pftAC7",
        "outputId": "3971e5d9-fa5f-4296-a53e-da2429736f8a"
      },
      "source": [
        "print(model.evaluate(x_test, y_test))"
      ],
      "execution_count": 16,
      "outputs": [
        {
          "output_type": "stream",
          "text": [
            "313/313 [==============================] - 1s 2ms/step - loss: 0.0764 - accuracy: 0.9772\n",
            "[0.07643315941095352, 0.9771999716758728]\n"
          ],
          "name": "stdout"
        }
      ]
    },
    {
      "cell_type": "code",
      "metadata": {
        "id": "LCgDLvHntJLx"
      },
      "source": [
        ""
      ],
      "execution_count": null,
      "outputs": []
    }
  ]
}