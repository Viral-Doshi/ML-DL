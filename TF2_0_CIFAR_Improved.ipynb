{
  "nbformat": 4,
  "nbformat_minor": 0,
  "metadata": {
    "colab": {
      "name": "TF2.0 CIFAR Improved.ipynb",
      "provenance": [],
      "collapsed_sections": []
    },
    "kernelspec": {
      "name": "python3",
      "display_name": "Python 3"
    },
    "accelerator": "GPU"
  },
  "cells": [
    {
      "cell_type": "code",
      "metadata": {
        "id": "pmNpq8GML1jW",
        "colab": {
          "base_uri": "https://localhost:8080/"
        },
        "outputId": "3582e38e-3e5d-4906-c00c-167428ad0e08"
      },
      "source": [
        "# Install TensorFlow\n",
        "# !pip install -q tensorflow-gpu==2.0.0-beta1\n",
        "\n",
        "try:\n",
        "  %tensorflow_version 2.x  # Colab only.\n",
        "except Exception:\n",
        "  pass\n",
        "\n",
        "import tensorflow as tf\n",
        "print(tf.__version__)"
      ],
      "execution_count": 1,
      "outputs": [
        {
          "output_type": "stream",
          "text": [
            "`%tensorflow_version` only switches the major version: 1.x or 2.x.\n",
            "You set: `2.x  # Colab only.`. This will be interpreted as: `2.x`.\n",
            "\n",
            "\n",
            "TensorFlow 2.x selected.\n",
            "2.4.0\n"
          ],
          "name": "stdout"
        }
      ]
    },
    {
      "cell_type": "code",
      "metadata": {
        "id": "cBJh6ib6MEIW"
      },
      "source": [
        "# additional imports\n",
        "\n",
        "import numpy as np\n",
        "import matplotlib.pyplot as plt\n",
        "from tensorflow.keras.layers import Input, Conv2D, Dense, Flatten, Dropout, GlobalMaxPooling2D, MaxPooling2D, BatchNormalization\n",
        "from tensorflow.keras.models import Model"
      ],
      "execution_count": 2,
      "outputs": []
    },
    {
      "cell_type": "code",
      "metadata": {
        "id": "H_EGZv1TL4S_",
        "colab": {
          "base_uri": "https://localhost:8080/"
        },
        "outputId": "1d519be1-5f67-444b-f4d0-4666ddf56645"
      },
      "source": [
        "# Load in the data\n",
        "cifar10 = tf.keras.datasets.cifar10\n",
        "\n",
        "(x_train, y_train), (x_test, y_test) = cifar10.load_data()\n",
        "x_train, x_test = x_train / 255.0, x_test / 255.0\n",
        "y_train, y_test = y_train.flatten(), y_test.flatten()\n",
        "print(\"x_train.shape:\", x_train.shape)\n",
        "print(\"y_train.shape\", y_train.shape)"
      ],
      "execution_count": 3,
      "outputs": [
        {
          "output_type": "stream",
          "text": [
            "Downloading data from https://www.cs.toronto.edu/~kriz/cifar-10-python.tar.gz\n",
            "170500096/170498071 [==============================] - 2s 0us/step\n",
            "x_train.shape: (50000, 32, 32, 3)\n",
            "y_train.shape (50000,)\n"
          ],
          "name": "stdout"
        }
      ]
    },
    {
      "cell_type": "code",
      "metadata": {
        "id": "1Wr15bYpMwbB",
        "colab": {
          "base_uri": "https://localhost:8080/"
        },
        "outputId": "27d3968f-f647-46fe-bd90-6299718d2b27"
      },
      "source": [
        "# number of classes\n",
        "K = len(set(y_train))\n",
        "print(\"number of classes:\", K)"
      ],
      "execution_count": 4,
      "outputs": [
        {
          "output_type": "stream",
          "text": [
            "number of classes: 10\n"
          ],
          "name": "stdout"
        }
      ]
    },
    {
      "cell_type": "code",
      "metadata": {
        "id": "Mmo66uQoMA1Q"
      },
      "source": [
        "# Build the model using the functional API\n",
        "i = Input(shape=x_train[0].shape)\n",
        "# x = Conv2D(32, (3, 3), strides=2, activation='relu')(i)\n",
        "# x = Conv2D(64, (3, 3), strides=2, activation='relu')(x)\n",
        "# x = Conv2D(128, (3, 3), strides=2, activation='relu')(x)\n",
        "\n",
        "x = Conv2D(32, (3, 3), activation='relu', padding='same')(i)\n",
        "x = BatchNormalization()(x)\n",
        "x = Conv2D(32, (3, 3), activation='relu', padding='same')(x)\n",
        "x = BatchNormalization()(x)\n",
        "x = MaxPooling2D((2, 2))(x)\n",
        "# x = Dropout(0.2)(x)\n",
        "x = Conv2D(64, (3, 3), activation='relu', padding='same')(x)\n",
        "x = BatchNormalization()(x)\n",
        "x = Conv2D(64, (3, 3), activation='relu', padding='same')(x)\n",
        "x = BatchNormalization()(x)\n",
        "x = MaxPooling2D((2, 2))(x)\n",
        "# x = Dropout(0.2)(x)\n",
        "x = Conv2D(128, (3, 3), activation='relu', padding='same')(x)\n",
        "x = BatchNormalization()(x)\n",
        "x = Conv2D(128, (3, 3), activation='relu', padding='same')(x)\n",
        "x = BatchNormalization()(x)\n",
        "x = MaxPooling2D((2, 2))(x)\n",
        "# x = Dropout(0.2)(x)\n",
        "\n",
        "# x = GlobalMaxPooling2D()(x)\n",
        "x = Flatten()(x)\n",
        "x = Dropout(0.2)(x)\n",
        "x = Dense(1024, activation='relu')(x)\n",
        "x = Dropout(0.2)(x)\n",
        "x = Dense(K, activation='softmax')(x)\n",
        "\n",
        "model = Model(i, x)"
      ],
      "execution_count": 5,
      "outputs": []
    },
    {
      "cell_type": "code",
      "metadata": {
        "id": "0zF9n0P7NcP-"
      },
      "source": [
        "# Compile\n",
        "# Note: make sure you are using the GPU for this!\n",
        "model.compile(optimizer='adam',\n",
        "              loss='sparse_categorical_crossentropy',\n",
        "              metrics=['accuracy'])"
      ],
      "execution_count": 6,
      "outputs": []
    },
    {
      "cell_type": "code",
      "metadata": {
        "id": "BBzAGEjOkvFz",
        "colab": {
          "base_uri": "https://localhost:8080/"
        },
        "outputId": "ff15504f-93bb-4b62-fa47-e5bb1c63531e"
      },
      "source": [
        "# Fit\n",
        "r = model.fit(x_train, y_train, validation_data=(x_test, y_test), epochs=50)"
      ],
      "execution_count": 7,
      "outputs": [
        {
          "output_type": "stream",
          "text": [
            "Epoch 1/50\n",
            "1563/1563 [==============================] - 17s 6ms/step - loss: 1.7766 - accuracy: 0.4571 - val_loss: 1.2030 - val_accuracy: 0.6010\n",
            "Epoch 2/50\n",
            "1563/1563 [==============================] - 9s 6ms/step - loss: 0.8579 - accuracy: 0.6995 - val_loss: 1.0372 - val_accuracy: 0.6604\n",
            "Epoch 3/50\n",
            "1563/1563 [==============================] - 9s 6ms/step - loss: 0.6978 - accuracy: 0.7593 - val_loss: 0.6920 - val_accuracy: 0.7685\n",
            "Epoch 4/50\n",
            "1563/1563 [==============================] - 9s 6ms/step - loss: 0.5751 - accuracy: 0.8000 - val_loss: 0.6893 - val_accuracy: 0.7655\n",
            "Epoch 5/50\n",
            "1563/1563 [==============================] - 9s 6ms/step - loss: 0.4765 - accuracy: 0.8374 - val_loss: 0.8503 - val_accuracy: 0.7512\n",
            "Epoch 6/50\n",
            "1563/1563 [==============================] - 9s 6ms/step - loss: 0.3967 - accuracy: 0.8622 - val_loss: 0.6635 - val_accuracy: 0.7834\n",
            "Epoch 7/50\n",
            "1563/1563 [==============================] - 9s 6ms/step - loss: 0.3327 - accuracy: 0.8868 - val_loss: 0.6191 - val_accuracy: 0.8069\n",
            "Epoch 8/50\n",
            "1563/1563 [==============================] - 9s 6ms/step - loss: 0.2684 - accuracy: 0.9065 - val_loss: 0.6053 - val_accuracy: 0.8142\n",
            "Epoch 9/50\n",
            "1563/1563 [==============================] - 9s 6ms/step - loss: 0.2367 - accuracy: 0.9180 - val_loss: 0.6463 - val_accuracy: 0.8076\n",
            "Epoch 10/50\n",
            "1563/1563 [==============================] - 9s 6ms/step - loss: 0.1981 - accuracy: 0.9305 - val_loss: 0.6018 - val_accuracy: 0.8259\n",
            "Epoch 11/50\n",
            "1563/1563 [==============================] - 9s 6ms/step - loss: 0.1789 - accuracy: 0.9391 - val_loss: 0.7017 - val_accuracy: 0.8157\n",
            "Epoch 12/50\n",
            "1563/1563 [==============================] - 9s 6ms/step - loss: 0.1574 - accuracy: 0.9482 - val_loss: 0.7379 - val_accuracy: 0.8164\n",
            "Epoch 13/50\n",
            "1563/1563 [==============================] - 9s 6ms/step - loss: 0.1459 - accuracy: 0.9526 - val_loss: 0.6696 - val_accuracy: 0.8288\n",
            "Epoch 14/50\n",
            "1563/1563 [==============================] - 9s 6ms/step - loss: 0.1300 - accuracy: 0.9561 - val_loss: 0.6735 - val_accuracy: 0.8259\n",
            "Epoch 15/50\n",
            "1563/1563 [==============================] - 9s 6ms/step - loss: 0.1200 - accuracy: 0.9601 - val_loss: 0.7047 - val_accuracy: 0.8181\n",
            "Epoch 16/50\n",
            "1563/1563 [==============================] - 10s 6ms/step - loss: 0.1122 - accuracy: 0.9619 - val_loss: 0.7874 - val_accuracy: 0.8290\n",
            "Epoch 17/50\n",
            "1563/1563 [==============================] - 9s 6ms/step - loss: 0.1025 - accuracy: 0.9665 - val_loss: 0.7483 - val_accuracy: 0.8317\n",
            "Epoch 18/50\n",
            "1563/1563 [==============================] - 9s 6ms/step - loss: 0.0980 - accuracy: 0.9672 - val_loss: 0.7466 - val_accuracy: 0.8216\n",
            "Epoch 19/50\n",
            "1563/1563 [==============================] - 9s 6ms/step - loss: 0.0856 - accuracy: 0.9706 - val_loss: 0.7726 - val_accuracy: 0.8336\n",
            "Epoch 20/50\n",
            "1563/1563 [==============================] - 9s 6ms/step - loss: 0.0850 - accuracy: 0.9719 - val_loss: 0.7426 - val_accuracy: 0.8352\n",
            "Epoch 21/50\n",
            "1563/1563 [==============================] - 9s 6ms/step - loss: 0.0917 - accuracy: 0.9705 - val_loss: 0.7210 - val_accuracy: 0.8372\n",
            "Epoch 22/50\n",
            "1563/1563 [==============================] - 9s 6ms/step - loss: 0.0783 - accuracy: 0.9739 - val_loss: 0.7755 - val_accuracy: 0.8318\n",
            "Epoch 23/50\n",
            "1563/1563 [==============================] - 9s 6ms/step - loss: 0.0719 - accuracy: 0.9763 - val_loss: 0.7882 - val_accuracy: 0.8249\n",
            "Epoch 24/50\n",
            "1563/1563 [==============================] - 9s 6ms/step - loss: 0.0676 - accuracy: 0.9768 - val_loss: 0.8410 - val_accuracy: 0.8264\n",
            "Epoch 25/50\n",
            "1563/1563 [==============================] - 9s 6ms/step - loss: 0.0768 - accuracy: 0.9750 - val_loss: 0.8246 - val_accuracy: 0.8369\n",
            "Epoch 26/50\n",
            "1563/1563 [==============================] - 9s 6ms/step - loss: 0.0626 - accuracy: 0.9792 - val_loss: 0.7435 - val_accuracy: 0.8357\n",
            "Epoch 27/50\n",
            "1563/1563 [==============================] - 9s 6ms/step - loss: 0.0612 - accuracy: 0.9785 - val_loss: 0.7815 - val_accuracy: 0.8353\n",
            "Epoch 28/50\n",
            "1563/1563 [==============================] - 9s 6ms/step - loss: 0.0656 - accuracy: 0.9785 - val_loss: 0.8160 - val_accuracy: 0.8416\n",
            "Epoch 29/50\n",
            "1563/1563 [==============================] - 9s 6ms/step - loss: 0.0568 - accuracy: 0.9809 - val_loss: 0.8199 - val_accuracy: 0.8351\n",
            "Epoch 30/50\n",
            "1563/1563 [==============================] - 9s 6ms/step - loss: 0.0614 - accuracy: 0.9804 - val_loss: 0.8221 - val_accuracy: 0.8344\n",
            "Epoch 31/50\n",
            "1563/1563 [==============================] - 9s 6ms/step - loss: 0.0567 - accuracy: 0.9813 - val_loss: 0.7907 - val_accuracy: 0.8382\n",
            "Epoch 32/50\n",
            "1563/1563 [==============================] - 9s 6ms/step - loss: 0.0542 - accuracy: 0.9821 - val_loss: 0.8092 - val_accuracy: 0.8418\n",
            "Epoch 33/50\n",
            "1563/1563 [==============================] - 9s 6ms/step - loss: 0.0513 - accuracy: 0.9835 - val_loss: 0.8182 - val_accuracy: 0.8372\n",
            "Epoch 34/50\n",
            "1563/1563 [==============================] - 9s 6ms/step - loss: 0.0526 - accuracy: 0.9826 - val_loss: 0.7244 - val_accuracy: 0.8425\n",
            "Epoch 35/50\n",
            "1563/1563 [==============================] - 9s 6ms/step - loss: 0.0438 - accuracy: 0.9854 - val_loss: 0.8900 - val_accuracy: 0.8416\n",
            "Epoch 36/50\n",
            "1563/1563 [==============================] - 9s 6ms/step - loss: 0.0525 - accuracy: 0.9828 - val_loss: 0.8570 - val_accuracy: 0.8329\n",
            "Epoch 37/50\n",
            "1563/1563 [==============================] - 9s 6ms/step - loss: 0.0454 - accuracy: 0.9850 - val_loss: 0.8109 - val_accuracy: 0.8391\n",
            "Epoch 38/50\n",
            "1563/1563 [==============================] - 9s 6ms/step - loss: 0.0472 - accuracy: 0.9838 - val_loss: 0.8602 - val_accuracy: 0.8359\n",
            "Epoch 39/50\n",
            "1563/1563 [==============================] - 9s 6ms/step - loss: 0.0476 - accuracy: 0.9856 - val_loss: 0.8852 - val_accuracy: 0.8302\n",
            "Epoch 40/50\n",
            "1563/1563 [==============================] - 9s 6ms/step - loss: 0.0438 - accuracy: 0.9860 - val_loss: 0.7613 - val_accuracy: 0.8341\n",
            "Epoch 41/50\n",
            "1563/1563 [==============================] - 9s 6ms/step - loss: 0.0418 - accuracy: 0.9860 - val_loss: 0.9742 - val_accuracy: 0.8409\n",
            "Epoch 42/50\n",
            "1563/1563 [==============================] - 9s 6ms/step - loss: 0.0439 - accuracy: 0.9861 - val_loss: 0.8746 - val_accuracy: 0.8357\n",
            "Epoch 43/50\n",
            "1563/1563 [==============================] - 9s 6ms/step - loss: 0.0410 - accuracy: 0.9872 - val_loss: 0.8724 - val_accuracy: 0.8391\n",
            "Epoch 44/50\n",
            "1563/1563 [==============================] - 9s 6ms/step - loss: 0.0393 - accuracy: 0.9865 - val_loss: 0.9071 - val_accuracy: 0.8396\n",
            "Epoch 45/50\n",
            "1563/1563 [==============================] - 9s 6ms/step - loss: 0.0446 - accuracy: 0.9855 - val_loss: 0.8974 - val_accuracy: 0.8425\n",
            "Epoch 46/50\n",
            "1563/1563 [==============================] - 9s 6ms/step - loss: 0.0384 - accuracy: 0.9880 - val_loss: 0.8563 - val_accuracy: 0.8371\n",
            "Epoch 47/50\n",
            "1563/1563 [==============================] - 9s 6ms/step - loss: 0.0412 - accuracy: 0.9872 - val_loss: 0.9912 - val_accuracy: 0.8322\n",
            "Epoch 48/50\n",
            "1563/1563 [==============================] - 9s 6ms/step - loss: 0.0402 - accuracy: 0.9872 - val_loss: 0.8400 - val_accuracy: 0.8432\n",
            "Epoch 49/50\n",
            "1563/1563 [==============================] - 9s 6ms/step - loss: 0.0364 - accuracy: 0.9890 - val_loss: 0.9301 - val_accuracy: 0.8386\n",
            "Epoch 50/50\n",
            "1563/1563 [==============================] - 9s 6ms/step - loss: 0.0389 - accuracy: 0.9870 - val_loss: 0.9806 - val_accuracy: 0.8362\n"
          ],
          "name": "stdout"
        }
      ]
    },
    {
      "cell_type": "code",
      "metadata": {
        "id": "af61hXUrYjsZ",
        "colab": {
          "base_uri": "https://localhost:8080/"
        },
        "outputId": "b46acd7e-d9cd-4294-c6c9-9bc86cbdcbc8"
      },
      "source": [
        "# Fit with data augmentation\n",
        "# Note: if you run this AFTER calling the previous model.fit(), it will CONTINUE training where it left off\n",
        "batch_size = 32\n",
        "data_generator = tf.keras.preprocessing.image.ImageDataGenerator(width_shift_range=0.1, height_shift_range=0.1, horizontal_flip=True)\n",
        "train_generator = data_generator.flow(x_train, y_train, batch_size)\n",
        "steps_per_epoch = x_train.shape[0] // batch_size\n",
        "r = model.fit(train_generator, validation_data=(x_test, y_test), steps_per_epoch=steps_per_epoch, epochs=50)"
      ],
      "execution_count": 8,
      "outputs": [
        {
          "output_type": "stream",
          "text": [
            "Epoch 1/50\n",
            "1562/1562 [==============================] - 26s 17ms/step - loss: 0.5470 - accuracy: 0.8258 - val_loss: 0.5374 - val_accuracy: 0.8293\n",
            "Epoch 2/50\n",
            "1562/1562 [==============================] - 26s 17ms/step - loss: 0.4361 - accuracy: 0.8569 - val_loss: 0.4809 - val_accuracy: 0.8443\n",
            "Epoch 3/50\n",
            "1562/1562 [==============================] - 26s 17ms/step - loss: 0.4095 - accuracy: 0.8651 - val_loss: 0.5071 - val_accuracy: 0.8411\n",
            "Epoch 4/50\n",
            "1562/1562 [==============================] - 26s 17ms/step - loss: 0.3817 - accuracy: 0.8732 - val_loss: 0.4752 - val_accuracy: 0.8527\n",
            "Epoch 5/50\n",
            "1562/1562 [==============================] - 26s 17ms/step - loss: 0.3645 - accuracy: 0.8789 - val_loss: 0.4569 - val_accuracy: 0.8466\n",
            "Epoch 6/50\n",
            "1562/1562 [==============================] - 26s 17ms/step - loss: 0.3497 - accuracy: 0.8824 - val_loss: 0.4582 - val_accuracy: 0.8573\n",
            "Epoch 7/50\n",
            "1562/1562 [==============================] - 26s 17ms/step - loss: 0.3408 - accuracy: 0.8843 - val_loss: 0.4520 - val_accuracy: 0.8566\n",
            "Epoch 8/50\n",
            "1562/1562 [==============================] - 26s 16ms/step - loss: 0.3273 - accuracy: 0.8896 - val_loss: 0.4422 - val_accuracy: 0.8593\n",
            "Epoch 9/50\n",
            "1562/1562 [==============================] - 26s 17ms/step - loss: 0.3167 - accuracy: 0.8932 - val_loss: 0.4258 - val_accuracy: 0.8659\n",
            "Epoch 10/50\n",
            "1562/1562 [==============================] - 26s 16ms/step - loss: 0.3058 - accuracy: 0.8970 - val_loss: 0.4043 - val_accuracy: 0.8709\n",
            "Epoch 11/50\n",
            "1562/1562 [==============================] - 26s 16ms/step - loss: 0.2959 - accuracy: 0.9000 - val_loss: 0.4387 - val_accuracy: 0.8606\n",
            "Epoch 12/50\n",
            "1562/1562 [==============================] - 26s 17ms/step - loss: 0.2911 - accuracy: 0.9004 - val_loss: 0.4211 - val_accuracy: 0.8666\n",
            "Epoch 13/50\n",
            "1562/1562 [==============================] - 26s 17ms/step - loss: 0.2818 - accuracy: 0.9050 - val_loss: 0.4082 - val_accuracy: 0.8694\n",
            "Epoch 14/50\n",
            "1562/1562 [==============================] - 26s 17ms/step - loss: 0.2769 - accuracy: 0.9072 - val_loss: 0.4207 - val_accuracy: 0.8680\n",
            "Epoch 15/50\n",
            "1562/1562 [==============================] - 26s 16ms/step - loss: 0.2692 - accuracy: 0.9081 - val_loss: 0.4182 - val_accuracy: 0.8718\n",
            "Epoch 16/50\n",
            "1562/1562 [==============================] - 26s 16ms/step - loss: 0.2627 - accuracy: 0.9097 - val_loss: 0.4274 - val_accuracy: 0.8684\n",
            "Epoch 17/50\n",
            "1562/1562 [==============================] - 26s 16ms/step - loss: 0.2599 - accuracy: 0.9118 - val_loss: 0.4215 - val_accuracy: 0.8733\n",
            "Epoch 18/50\n",
            "1562/1562 [==============================] - 26s 17ms/step - loss: 0.2522 - accuracy: 0.9153 - val_loss: 0.4088 - val_accuracy: 0.8762\n",
            "Epoch 19/50\n",
            "1562/1562 [==============================] - 26s 17ms/step - loss: 0.2526 - accuracy: 0.9134 - val_loss: 0.3983 - val_accuracy: 0.8732\n",
            "Epoch 20/50\n",
            "1562/1562 [==============================] - 26s 17ms/step - loss: 0.2458 - accuracy: 0.9175 - val_loss: 0.4071 - val_accuracy: 0.8727\n",
            "Epoch 21/50\n",
            "1562/1562 [==============================] - 26s 17ms/step - loss: 0.2387 - accuracy: 0.9202 - val_loss: 0.4113 - val_accuracy: 0.8739\n",
            "Epoch 22/50\n",
            "1562/1562 [==============================] - 26s 17ms/step - loss: 0.2366 - accuracy: 0.9187 - val_loss: 0.4231 - val_accuracy: 0.8730\n",
            "Epoch 23/50\n",
            "1562/1562 [==============================] - 26s 17ms/step - loss: 0.2232 - accuracy: 0.9236 - val_loss: 0.4102 - val_accuracy: 0.8722\n",
            "Epoch 24/50\n",
            "1562/1562 [==============================] - 27s 17ms/step - loss: 0.2278 - accuracy: 0.9241 - val_loss: 0.4077 - val_accuracy: 0.8669\n",
            "Epoch 25/50\n",
            "1562/1562 [==============================] - 26s 17ms/step - loss: 0.2205 - accuracy: 0.9248 - val_loss: 0.4768 - val_accuracy: 0.8549\n",
            "Epoch 26/50\n",
            "1562/1562 [==============================] - 26s 17ms/step - loss: 0.2208 - accuracy: 0.9241 - val_loss: 0.4399 - val_accuracy: 0.8680\n",
            "Epoch 27/50\n",
            "1562/1562 [==============================] - 26s 17ms/step - loss: 0.2072 - accuracy: 0.9297 - val_loss: 0.4281 - val_accuracy: 0.8699\n",
            "Epoch 28/50\n",
            "1562/1562 [==============================] - 26s 17ms/step - loss: 0.2105 - accuracy: 0.9289 - val_loss: 0.4015 - val_accuracy: 0.8786\n",
            "Epoch 29/50\n",
            "1562/1562 [==============================] - 26s 17ms/step - loss: 0.2088 - accuracy: 0.9290 - val_loss: 0.4534 - val_accuracy: 0.8714\n",
            "Epoch 30/50\n",
            "1562/1562 [==============================] - 26s 17ms/step - loss: 0.2023 - accuracy: 0.9315 - val_loss: 0.4535 - val_accuracy: 0.8673\n",
            "Epoch 31/50\n",
            "1562/1562 [==============================] - 26s 17ms/step - loss: 0.2019 - accuracy: 0.9317 - val_loss: 0.4166 - val_accuracy: 0.8732\n",
            "Epoch 32/50\n",
            "1562/1562 [==============================] - 26s 17ms/step - loss: 0.1975 - accuracy: 0.9332 - val_loss: 0.4315 - val_accuracy: 0.8753\n",
            "Epoch 33/50\n",
            "1562/1562 [==============================] - 26s 17ms/step - loss: 0.1959 - accuracy: 0.9344 - val_loss: 0.4360 - val_accuracy: 0.8722\n",
            "Epoch 34/50\n",
            "1562/1562 [==============================] - 26s 17ms/step - loss: 0.1940 - accuracy: 0.9345 - val_loss: 0.4293 - val_accuracy: 0.8799\n",
            "Epoch 35/50\n",
            "1562/1562 [==============================] - 26s 17ms/step - loss: 0.1928 - accuracy: 0.9343 - val_loss: 0.4265 - val_accuracy: 0.8710\n",
            "Epoch 36/50\n",
            "1562/1562 [==============================] - 26s 17ms/step - loss: 0.1950 - accuracy: 0.9351 - val_loss: 0.4234 - val_accuracy: 0.8810\n",
            "Epoch 37/50\n",
            "1562/1562 [==============================] - 26s 17ms/step - loss: 0.1895 - accuracy: 0.9354 - val_loss: 0.4399 - val_accuracy: 0.8793\n",
            "Epoch 38/50\n",
            "1562/1562 [==============================] - 26s 17ms/step - loss: 0.1812 - accuracy: 0.9387 - val_loss: 0.4239 - val_accuracy: 0.8780\n",
            "Epoch 39/50\n",
            "1562/1562 [==============================] - 26s 17ms/step - loss: 0.1824 - accuracy: 0.9385 - val_loss: 0.4920 - val_accuracy: 0.8694\n",
            "Epoch 40/50\n",
            "1562/1562 [==============================] - 26s 17ms/step - loss: 0.1816 - accuracy: 0.9390 - val_loss: 0.4193 - val_accuracy: 0.8781\n",
            "Epoch 41/50\n",
            "1562/1562 [==============================] - 26s 16ms/step - loss: 0.1773 - accuracy: 0.9402 - val_loss: 0.4296 - val_accuracy: 0.8780\n",
            "Epoch 42/50\n",
            "1562/1562 [==============================] - 26s 17ms/step - loss: 0.1788 - accuracy: 0.9391 - val_loss: 0.4632 - val_accuracy: 0.8725\n",
            "Epoch 43/50\n",
            "1562/1562 [==============================] - 26s 17ms/step - loss: 0.1792 - accuracy: 0.9395 - val_loss: 0.4287 - val_accuracy: 0.8864\n",
            "Epoch 44/50\n",
            "1562/1562 [==============================] - 26s 17ms/step - loss: 0.1729 - accuracy: 0.9408 - val_loss: 0.4313 - val_accuracy: 0.8817\n",
            "Epoch 45/50\n",
            "1562/1562 [==============================] - 26s 17ms/step - loss: 0.1736 - accuracy: 0.9404 - val_loss: 0.4379 - val_accuracy: 0.8816\n",
            "Epoch 46/50\n",
            "1562/1562 [==============================] - 26s 17ms/step - loss: 0.1692 - accuracy: 0.9424 - val_loss: 0.4313 - val_accuracy: 0.8786\n",
            "Epoch 47/50\n",
            "1562/1562 [==============================] - 26s 16ms/step - loss: 0.1674 - accuracy: 0.9430 - val_loss: 0.4580 - val_accuracy: 0.8840\n",
            "Epoch 48/50\n",
            "1562/1562 [==============================] - 26s 17ms/step - loss: 0.1707 - accuracy: 0.9429 - val_loss: 0.4708 - val_accuracy: 0.8794\n",
            "Epoch 49/50\n",
            "1562/1562 [==============================] - 26s 17ms/step - loss: 0.1655 - accuracy: 0.9434 - val_loss: 0.4615 - val_accuracy: 0.8773\n",
            "Epoch 50/50\n",
            "1562/1562 [==============================] - 26s 17ms/step - loss: 0.1640 - accuracy: 0.9448 - val_loss: 0.4366 - val_accuracy: 0.8799\n"
          ],
          "name": "stdout"
        }
      ]
    },
    {
      "cell_type": "code",
      "metadata": {
        "id": "ML37hw4iOkBm",
        "colab": {
          "base_uri": "https://localhost:8080/",
          "height": 282
        },
        "outputId": "5043555f-448a-49ac-9cf6-0f2a96a06c37"
      },
      "source": [
        "# Plot loss per iteration\n",
        "import matplotlib.pyplot as plt\n",
        "plt.plot(r.history['loss'], label='loss')\n",
        "plt.plot(r.history['val_loss'], label='val_loss')\n",
        "plt.legend()"
      ],
      "execution_count": 9,
      "outputs": [
        {
          "output_type": "execute_result",
          "data": {
            "text/plain": [
              "<matplotlib.legend.Legend at 0x7f0311f4bbe0>"
            ]
          },
          "metadata": {
            "tags": []
          },
          "execution_count": 9
        },
        {
          "output_type": "display_data",
          "data": {
            "image/png": "[encoded data removed]",
            "text/plain": [
              "<Figure size 432x288 with 1 Axes>"
            ]
          },
          "metadata": {
            "tags": [],
            "needs_background": "light"
          }
        }
      ]
    },
    {
      "cell_type": "code",
      "metadata": {
        "id": "pemstSDIOpIb",
        "colab": {
          "base_uri": "https://localhost:8080/",
          "height": 282
        },
        "outputId": "8bfd233c-6c26-4deb-9699-9e4b206083c1"
      },
      "source": [
        "# Plot accuracy per iteration\n",
        "plt.plot(r.history['accuracy'], label='acc')\n",
        "plt.plot(r.history['val_accuracy'], label='val_acc')\n",
        "plt.legend()"
      ],
      "execution_count": 10,
      "outputs": [
        {
          "output_type": "execute_result",
          "data": {
            "text/plain": [
              "<matplotlib.legend.Legend at 0x7f0311aa1a90>"
            ]
          },
          "metadata": {
            "tags": []
          },
          "execution_count": 10
        },
        {
          "output_type": "display_data",
          "data": {
            "image/png": "[encoded data removed]",
            "text/plain": [
              "<Figure size 432x288 with 1 Axes>"
            ]
          },
          "metadata": {
            "tags": [],
            "needs_background": "light"
          }
        }
      ]
    },
    {
      "cell_type": "code",
      "metadata": {
        "id": "2LJTd4OiO6kL",
        "colab": {
          "base_uri": "https://localhost:8080/",
          "height": 498
        },
        "outputId": "3618b2de-d177-4cb6-fe06-644ae68979c1"
      },
      "source": [
        "# Plot confusion matrix\n",
        "from sklearn.metrics import confusion_matrix\n",
        "import itertools\n",
        "\n",
        "def plot_confusion_matrix(cm, classes,\n",
        "                          normalize=False,\n",
        "                          title='Confusion matrix',\n",
        "                          cmap=plt.cm.Blues):\n",
        "  \"\"\"\n",
        "  This function prints and plots the confusion matrix.\n",
        "  Normalization can be applied by setting `normalize=True`.\n",
        "  \"\"\"\n",
        "  if normalize:\n",
        "      cm = cm.astype('float') / cm.sum(axis=1)[:, np.newaxis]\n",
        "      print(\"Normalized confusion matrix\")\n",
        "  else:\n",
        "      print('Confusion matrix, without normalization')\n",
        "\n",
        "  print(cm)\n",
        "\n",
        "  plt.imshow(cm, interpolation='nearest', cmap=cmap)\n",
        "  plt.title(title)\n",
        "  plt.colorbar()\n",
        "  tick_marks = np.arange(len(classes))\n",
        "  plt.xticks(tick_marks, classes, rotation=45)\n",
        "  plt.yticks(tick_marks, classes)\n",
        "\n",
        "  fmt = '.2f' if normalize else 'd'\n",
        "  thresh = cm.max() / 2.\n",
        "  for i, j in itertools.product(range(cm.shape[0]), range(cm.shape[1])):\n",
        "      plt.text(j, i, format(cm[i, j], fmt),\n",
        "               horizontalalignment=\"center\",\n",
        "               color=\"white\" if cm[i, j] > thresh else \"black\")\n",
        "\n",
        "  plt.tight_layout()\n",
        "  plt.ylabel('True label')\n",
        "  plt.xlabel('Predicted label')\n",
        "  plt.show()\n",
        "\n",
        "\n",
        "p_test = model.predict(x_test).argmax(axis=1)\n",
        "cm = confusion_matrix(y_test, p_test)\n",
        "plot_confusion_matrix(cm, list(range(10)))\n",
        "\n"
      ],
      "execution_count": 11,
      "outputs": [
        {
          "output_type": "stream",
          "text": [
            "Confusion matrix, without normalization\n",
            "[[931   8   9   5   2   2   3   4  26  10]\n",
            " [  4 975   0   1   1   0   1   0   3  15]\n",
            " [ 37   4 785  44  24  42  42  10   2  10]\n",
            " [  9   4  18 803  17  98  34   7   4   6]\n",
            " [ 14   1  22  40 836  26  46  14   1   0]\n",
            " [  6   3  11 108  17 830  14  11   0   0]\n",
            " [  5   1  13  31   5   7 933   1   1   3]\n",
            " [  7   2   7  21  23  34   5 891   3   7]\n",
            " [ 54  20   3   8   1   1   1   0 901  11]\n",
            " [ 15  57   1   4   0   1   0   1   7 914]]\n"
          ],
          "name": "stdout"
        },
        {
          "output_type": "display_data",
          "data": {
            "image/png": "[encoded data removed]",
            "text/plain": [
              "<Figure size 432x288 with 2 Axes>"
            ]
          },
          "metadata": {
            "tags": [],
            "needs_background": "light"
          }
        }
      ]
    },
    {
      "cell_type": "code",
      "metadata": {
        "id": "AgQqQHXNXDgw"
      },
      "source": [
        "# label mapping\n",
        "labels = '''airplane\n",
        "automobile\n",
        "bird\n",
        "cat\n",
        "deer\n",
        "dog\n",
        "frog\n",
        "horse\n",
        "ship\n",
        "truck'''.split()"
      ],
      "execution_count": 12,
      "outputs": []
    },
    {
      "cell_type": "code",
      "metadata": {
        "id": "jjmW4STFO-Ny",
        "colab": {
          "base_uri": "https://localhost:8080/",
          "height": 281
        },
        "outputId": "975eccf0-7013-4534-899b-8915261533a6"
      },
      "source": [
        "# Show some misclassified examples\n",
        "misclassified_idx = np.where(p_test != y_test)[0]\n",
        "i = np.random.choice(misclassified_idx)\n",
        "plt.imshow(x_test[i], cmap='gray')\n",
        "plt.title(\"True label: %s Predicted: %s\" % (labels[y_test[i]], labels[p_test[i]]));"
      ],
      "execution_count": 13,
      "outputs": [
        {
          "output_type": "display_data",
          "data": {
            "image/png": "[encoded data removed]",
            "text/plain": [
              "<Figure size 432x288 with 1 Axes>"
            ]
          },
          "metadata": {
            "tags": [],
            "needs_background": "light"
          }
        }
      ]
    },
    {
      "cell_type": "code",
      "metadata": {
        "id": "qNw6PmshWjoZ",
        "colab": {
          "base_uri": "https://localhost:8080/"
        },
        "outputId": "c2946af5-20f9-4a35-db65-281b31fd87dc"
      },
      "source": [
        "# Now that the model is so large, it's useful to summarize it\n",
        "model.summary()"
      ],
      "execution_count": 14,
      "outputs": [
        {
          "output_type": "stream",
          "text": [
            "Model: \"model\"\n",
            "_________________________________________________________________\n",
            "Layer (type)                 Output Shape              Param #   \n",
            "=================================================================\n",
            "input_1 (InputLayer)         [(None, 32, 32, 3)]       0         \n",
            "_________________________________________________________________\n",
            "conv2d (Conv2D)              (None, 32, 32, 32)        896       \n",
            "_________________________________________________________________\n",
            "batch_normalization (BatchNo (None, 32, 32, 32)        128       \n",
            "_________________________________________________________________\n",
            "conv2d_1 (Conv2D)            (None, 32, 32, 32)        9248      \n",
            "_________________________________________________________________\n",
            "batch_normalization_1 (Batch (None, 32, 32, 32)        128       \n",
            "_________________________________________________________________\n",
            "max_pooling2d (MaxPooling2D) (None, 16, 16, 32)        0         \n",
            "_________________________________________________________________\n",
            "conv2d_2 (Conv2D)            (None, 16, 16, 64)        18496     \n",
            "_________________________________________________________________\n",
            "batch_normalization_2 (Batch (None, 16, 16, 64)        256       \n",
            "_________________________________________________________________\n",
            "conv2d_3 (Conv2D)            (None, 16, 16, 64)        36928     \n",
            "_________________________________________________________________\n",
            "batch_normalization_3 (Batch (None, 16, 16, 64)        256       \n",
            "_________________________________________________________________\n",
            "max_pooling2d_1 (MaxPooling2 (None, 8, 8, 64)          0         \n",
            "_________________________________________________________________\n",
            "conv2d_4 (Conv2D)            (None, 8, 8, 128)         73856     \n",
            "_________________________________________________________________\n",
            "batch_normalization_4 (Batch (None, 8, 8, 128)         512       \n",
            "_________________________________________________________________\n",
            "conv2d_5 (Conv2D)            (None, 8, 8, 128)         147584    \n",
            "_________________________________________________________________\n",
            "batch_normalization_5 (Batch (None, 8, 8, 128)         512       \n",
            "_________________________________________________________________\n",
            "max_pooling2d_2 (MaxPooling2 (None, 4, 4, 128)         0         \n",
            "_________________________________________________________________\n",
            "flatten (Flatten)            (None, 2048)              0         \n",
            "_________________________________________________________________\n",
            "dropout (Dropout)            (None, 2048)              0         \n",
            "_________________________________________________________________\n",
            "dense (Dense)                (None, 1024)              2098176   \n",
            "_________________________________________________________________\n",
            "dropout_1 (Dropout)          (None, 1024)              0         \n",
            "_________________________________________________________________\n",
            "dense_1 (Dense)              (None, 10)                10250     \n",
            "=================================================================\n",
            "Total params: 2,397,226\n",
            "Trainable params: 2,396,330\n",
            "Non-trainable params: 896\n",
            "_________________________________________________________________\n"
          ],
          "name": "stdout"
        }
      ]
    }
  ]
}