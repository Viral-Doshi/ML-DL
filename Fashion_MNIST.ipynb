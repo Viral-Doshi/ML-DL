{
  "nbformat": 4,
  "nbformat_minor": 0,
  "metadata": {
    "colab": {
      "name": "Fashion_MNIST.ipynb",
      "provenance": [],
      "collapsed_sections": []
    },
    "kernelspec": {
      "name": "python3",
      "display_name": "Python 3"
    },
    "accelerator": "GPU"
  },
  "cells": [
    {
      "cell_type": "code",
      "metadata": {
        "id": "WS8r8IbVTGBV"
      },
      "source": [
        "import numpy as np\r\n",
        "import pandas as pd\r\n",
        "import matplotlib.pyplot as plt\r\n",
        "import seaborn as sns\r\n",
        "import tensorflow as tf\r\n",
        "from tensorflow.keras.layers import Input, Conv2D, Dense, Flatten, Dropout, GlobalMaxPooling2D, MaxPooling2D, BatchNormalization\r\n",
        "from tensorflow.keras.models import Model"
      ],
      "execution_count": 27,
      "outputs": []
    },
    {
      "cell_type": "code",
      "metadata": {
        "id": "I30e46vvT0hR"
      },
      "source": [
        "fashion_mnist = tf.keras.datasets.fashion_mnist"
      ],
      "execution_count": 28,
      "outputs": []
    },
    {
      "cell_type": "code",
      "metadata": {
        "id": "Pm7dJuRPUJzz"
      },
      "source": [
        "(X_train,y_train), (X_test,y_test) = fashion_mnist.load_data()"
      ],
      "execution_count": 29,
      "outputs": []
    },
    {
      "cell_type": "code",
      "metadata": {
        "colab": {
          "base_uri": "https://localhost:8080/"
        },
        "id": "NVZTUN37Uczv",
        "outputId": "acb333d3-969c-432d-9c9f-04e75a2e32ec"
      },
      "source": [
        "X_train.shape"
      ],
      "execution_count": 30,
      "outputs": [
        {
          "output_type": "execute_result",
          "data": {
            "text/plain": [
              "(60000, 28, 28)"
            ]
          },
          "metadata": {
            "tags": []
          },
          "execution_count": 30
        }
      ]
    },
    {
      "cell_type": "code",
      "metadata": {
        "colab": {
          "base_uri": "https://localhost:8080/",
          "height": 282
        },
        "id": "nZdaaEO2UofR",
        "outputId": "aed9c0f7-2223-4c19-9e2c-91412105b8a9"
      },
      "source": [
        "plt.imshow(X_train[1], cmap = 'gray' )"
      ],
      "execution_count": 31,
      "outputs": [
        {
          "output_type": "execute_result",
          "data": {
            "text/plain": [
              "<matplotlib.image.AxesImage at 0x7f16ab7a5978>"
            ]
          },
          "metadata": {
            "tags": []
          },
          "execution_count": 31
        },
        {
          "output_type": "display_data",
          "data": {
            "image/png": "[encoded data removed]",
            "text/plain": [
              "<Figure size 432x288 with 1 Axes>"
            ]
          },
          "metadata": {
            "tags": [],
            "needs_background": "light"
          }
        }
      ]
    },
    {
      "cell_type": "code",
      "metadata": {
        "id": "IceoUdgvUu5O"
      },
      "source": [
        "X_train = X_train/255.0\r\n",
        "X_test = X_test/255.0"
      ],
      "execution_count": 32,
      "outputs": []
    },
    {
      "cell_type": "code",
      "metadata": {
        "id": "BUpTU8OuVfGB"
      },
      "source": [
        "#WE need a 3D map for applying convolution.... so let us reshape our data to correct dimensions\r\n",
        "X_train = np.expand_dims(X_train, -1)\r\n",
        "X_test = np.expand_dims(X_test, -1)"
      ],
      "execution_count": 33,
      "outputs": []
    },
    {
      "cell_type": "code",
      "metadata": {
        "colab": {
          "base_uri": "https://localhost:8080/"
        },
        "id": "P2K52MhuVtsa",
        "outputId": "578869be-fc8e-4a33-e929-f24f731db737"
      },
      "source": [
        "print(X_train.shape)\r\n",
        "print(X_test.shape)"
      ],
      "execution_count": 34,
      "outputs": [
        {
          "output_type": "stream",
          "text": [
            "(60000, 28, 28, 1)\n",
            "(10000, 28, 28, 1)\n"
          ],
          "name": "stdout"
        }
      ]
    },
    {
      "cell_type": "code",
      "metadata": {
        "id": "2_upmlL9Vyhu"
      },
      "source": [
        "# We will use the Functional API of Keras for designing of the Model.\r\n",
        "\r\n",
        "i = Input(shape = X_train[0].shape)\r\n",
        "x = Conv2D(filters= 32, kernel_size=(3,3), activation= 'relu')(i)\r\n",
        "x = BatchNormalization()(x)\r\n",
        "x = Conv2D(filters= 32, kernel_size=(3,3), activation= 'relu')(x)\r\n",
        "x = BatchNormalization()(x)\r\n",
        "x = MaxPooling2D((2, 2))(x)\r\n",
        "x = Conv2D(filters= 64, kernel_size=(3,3), activation= 'relu')(x)\r\n",
        "x = BatchNormalization()(x)\r\n",
        "x = Conv2D(filters= 64, kernel_size=(3,3), activation= 'relu')(x)\r\n",
        "x = BatchNormalization()(x)\r\n",
        "x = MaxPooling2D((2, 2))(x)\r\n",
        "x = Conv2D(filters= 128, kernel_size=(3,3), activation= 'relu')(x)\r\n",
        "x = BatchNormalization()(x)\r\n",
        "x = Flatten()(x)\r\n",
        "x = Dropout(0.4)(x)\r\n",
        "x = Dense(512, activation='relu')(x)\r\n",
        "x = Dropout(0.4)(x)\r\n",
        "x = Dense(10, activation='softmax')(x)\r\n",
        "model = Model(i,x)"
      ],
      "execution_count": 35,
      "outputs": []
    },
    {
      "cell_type": "code",
      "metadata": {
        "colab": {
          "base_uri": "https://localhost:8080/"
        },
        "id": "ymEkBPdXXtYa",
        "outputId": "b4e5c911-5ea4-45b9-f769-4c21b37363cc"
      },
      "source": [
        "model.summary()"
      ],
      "execution_count": 36,
      "outputs": [
        {
          "output_type": "stream",
          "text": [
            "Model: \"model_1\"\n",
            "_________________________________________________________________\n",
            "Layer (type)                 Output Shape              Param #   \n",
            "=================================================================\n",
            "input_4 (InputLayer)         [(None, 28, 28, 1)]       0         \n",
            "_________________________________________________________________\n",
            "conv2d_11 (Conv2D)           (None, 26, 26, 32)        320       \n",
            "_________________________________________________________________\n",
            "batch_normalization_10 (Batc (None, 26, 26, 32)        128       \n",
            "_________________________________________________________________\n",
            "conv2d_12 (Conv2D)           (None, 24, 24, 32)        9248      \n",
            "_________________________________________________________________\n",
            "batch_normalization_11 (Batc (None, 24, 24, 32)        128       \n",
            "_________________________________________________________________\n",
            "max_pooling2d_4 (MaxPooling2 (None, 12, 12, 32)        0         \n",
            "_________________________________________________________________\n",
            "conv2d_13 (Conv2D)           (None, 10, 10, 64)        18496     \n",
            "_________________________________________________________________\n",
            "batch_normalization_12 (Batc (None, 10, 10, 64)        256       \n",
            "_________________________________________________________________\n",
            "conv2d_14 (Conv2D)           (None, 8, 8, 64)          36928     \n",
            "_________________________________________________________________\n",
            "batch_normalization_13 (Batc (None, 8, 8, 64)          256       \n",
            "_________________________________________________________________\n",
            "max_pooling2d_5 (MaxPooling2 (None, 4, 4, 64)          0         \n",
            "_________________________________________________________________\n",
            "conv2d_15 (Conv2D)           (None, 2, 2, 128)         73856     \n",
            "_________________________________________________________________\n",
            "batch_normalization_14 (Batc (None, 2, 2, 128)         512       \n",
            "_________________________________________________________________\n",
            "flatten_2 (Flatten)          (None, 512)               0         \n",
            "_________________________________________________________________\n",
            "dropout_4 (Dropout)          (None, 512)               0         \n",
            "_________________________________________________________________\n",
            "dense_4 (Dense)              (None, 512)               262656    \n",
            "_________________________________________________________________\n",
            "dropout_5 (Dropout)          (None, 512)               0         \n",
            "_________________________________________________________________\n",
            "dense_5 (Dense)              (None, 10)                5130      \n",
            "=================================================================\n",
            "Total params: 407,914\n",
            "Trainable params: 407,274\n",
            "Non-trainable params: 640\n",
            "_________________________________________________________________\n"
          ],
          "name": "stdout"
        }
      ]
    },
    {
      "cell_type": "code",
      "metadata": {
        "colab": {
          "base_uri": "https://localhost:8080/"
        },
        "id": "dCpMBwLlYQeu",
        "outputId": "684e4992-b8b0-4f27-c739-d9c1c2cef2d3"
      },
      "source": [
        "model.compile(optimizer='adam',\r\n",
        "              loss='sparse_categorical_crossentropy',\r\n",
        "              metrics=['accuracy'])\r\n",
        "r = model.fit(X_train, y_train, validation_data=(X_test, y_test), epochs=15)"
      ],
      "execution_count": 37,
      "outputs": [
        {
          "output_type": "stream",
          "text": [
            "Epoch 1/15\n",
            "1875/1875 [==============================] - 9s 4ms/step - loss: 0.6830 - accuracy: 0.7656 - val_loss: 0.3244 - val_accuracy: 0.8782\n",
            "Epoch 2/15\n",
            "1875/1875 [==============================] - 8s 4ms/step - loss: 0.3350 - accuracy: 0.8792 - val_loss: 0.3491 - val_accuracy: 0.8772\n",
            "Epoch 3/15\n",
            "1875/1875 [==============================] - 7s 4ms/step - loss: 0.2968 - accuracy: 0.8935 - val_loss: 0.2935 - val_accuracy: 0.8918\n",
            "Epoch 4/15\n",
            "1875/1875 [==============================] - 7s 4ms/step - loss: 0.2725 - accuracy: 0.9011 - val_loss: 0.2739 - val_accuracy: 0.9057\n",
            "Epoch 5/15\n",
            "1875/1875 [==============================] - 8s 4ms/step - loss: 0.2475 - accuracy: 0.9104 - val_loss: 0.2407 - val_accuracy: 0.9115\n",
            "Epoch 6/15\n",
            "1875/1875 [==============================] - 8s 4ms/step - loss: 0.2283 - accuracy: 0.9172 - val_loss: 0.2371 - val_accuracy: 0.9125\n",
            "Epoch 7/15\n",
            "1875/1875 [==============================] - 8s 4ms/step - loss: 0.2089 - accuracy: 0.9235 - val_loss: 0.2226 - val_accuracy: 0.9216\n",
            "Epoch 8/15\n",
            "1875/1875 [==============================] - 8s 4ms/step - loss: 0.1967 - accuracy: 0.9275 - val_loss: 0.2234 - val_accuracy: 0.9214\n",
            "Epoch 9/15\n",
            "1875/1875 [==============================] - 7s 4ms/step - loss: 0.1822 - accuracy: 0.9332 - val_loss: 0.2332 - val_accuracy: 0.9184\n",
            "Epoch 10/15\n",
            "1875/1875 [==============================] - 8s 4ms/step - loss: 0.1653 - accuracy: 0.9400 - val_loss: 0.2372 - val_accuracy: 0.9210\n",
            "Epoch 11/15\n",
            "1875/1875 [==============================] - 8s 4ms/step - loss: 0.1587 - accuracy: 0.9422 - val_loss: 0.2186 - val_accuracy: 0.9215\n",
            "Epoch 12/15\n",
            "1875/1875 [==============================] - 7s 4ms/step - loss: 0.1430 - accuracy: 0.9483 - val_loss: 0.2221 - val_accuracy: 0.9254\n",
            "Epoch 13/15\n",
            "1875/1875 [==============================] - 7s 4ms/step - loss: 0.1377 - accuracy: 0.9501 - val_loss: 0.2163 - val_accuracy: 0.9262\n",
            "Epoch 14/15\n",
            "1875/1875 [==============================] - 7s 4ms/step - loss: 0.1268 - accuracy: 0.9530 - val_loss: 0.2400 - val_accuracy: 0.9182\n",
            "Epoch 15/15\n",
            "1875/1875 [==============================] - 7s 4ms/step - loss: 0.1219 - accuracy: 0.9554 - val_loss: 0.2555 - val_accuracy: 0.9176\n"
          ],
          "name": "stdout"
        }
      ]
    },
    {
      "cell_type": "code",
      "metadata": {
        "colab": {
          "base_uri": "https://localhost:8080/",
          "height": 282
        },
        "id": "kdsuiy3wYdL6",
        "outputId": "3c33526c-7066-4f71-a643-4ed0c44bbada"
      },
      "source": [
        "plt.plot(r.history['loss'])\r\n",
        "plt.plot(r.history['val_loss'])"
      ],
      "execution_count": 38,
      "outputs": [
        {
          "output_type": "execute_result",
          "data": {
            "text/plain": [
              "[<matplotlib.lines.Line2D at 0x7f16ab6da240>]"
            ]
          },
          "metadata": {
            "tags": []
          },
          "execution_count": 38
        },
        {
          "output_type": "display_data",
          "data": {
            "image/png": "[encoded data removed]",
            "text/plain": [
              "<Figure size 432x288 with 1 Axes>"
            ]
          },
          "metadata": {
            "tags": [],
            "needs_background": "light"
          }
        }
      ]
    },
    {
      "cell_type": "code",
      "metadata": {
        "colab": {
          "base_uri": "https://localhost:8080/"
        },
        "id": "Z6mS77xCZHuP",
        "outputId": "a7d6289d-7ae6-4d56-90ec-57d8bdf319a8"
      },
      "source": [
        "batch_size = 30\r\n",
        "data_generator = tf.keras.preprocessing.image.ImageDataGenerator(width_shift_range=0.1, height_shift_range=0.1, horizontal_flip=True)\r\n",
        "train_generator = data_generator.flow(X_train, y_train, batch_size)\r\n",
        "steps_per_epoch = X_train.shape[0] // batch_size\r\n",
        "r = model.fit(train_generator, validation_data=(X_test, y_test), steps_per_epoch=steps_per_epoch, epochs=50)"
      ],
      "execution_count": 40,
      "outputs": [
        {
          "output_type": "stream",
          "text": [
            "Epoch 1/50\n",
            "2000/2000 [==============================] - 20s 10ms/step - loss: 0.4261 - accuracy: 0.8520 - val_loss: 0.2354 - val_accuracy: 0.9126\n",
            "Epoch 2/50\n",
            "2000/2000 [==============================] - 19s 9ms/step - loss: 0.3368 - accuracy: 0.8806 - val_loss: 0.2353 - val_accuracy: 0.9160\n",
            "Epoch 3/50\n",
            "2000/2000 [==============================] - 19s 9ms/step - loss: 0.3156 - accuracy: 0.8874 - val_loss: 0.2300 - val_accuracy: 0.9140\n",
            "Epoch 4/50\n",
            "2000/2000 [==============================] - 19s 10ms/step - loss: 0.2986 - accuracy: 0.8930 - val_loss: 0.2310 - val_accuracy: 0.9150\n",
            "Epoch 5/50\n",
            "2000/2000 [==============================] - 19s 10ms/step - loss: 0.2848 - accuracy: 0.8974 - val_loss: 0.2340 - val_accuracy: 0.9145\n",
            "Epoch 6/50\n",
            "2000/2000 [==============================] - 20s 10ms/step - loss: 0.2803 - accuracy: 0.8989 - val_loss: 0.2268 - val_accuracy: 0.9182\n",
            "Epoch 7/50\n",
            "2000/2000 [==============================] - 19s 10ms/step - loss: 0.2747 - accuracy: 0.9015 - val_loss: 0.2168 - val_accuracy: 0.9204\n",
            "Epoch 8/50\n",
            "2000/2000 [==============================] - 19s 10ms/step - loss: 0.2684 - accuracy: 0.9043 - val_loss: 0.2643 - val_accuracy: 0.9019\n",
            "Epoch 9/50\n",
            "2000/2000 [==============================] - 19s 10ms/step - loss: 0.2634 - accuracy: 0.9066 - val_loss: 0.2072 - val_accuracy: 0.9257\n",
            "Epoch 10/50\n",
            "2000/2000 [==============================] - 19s 10ms/step - loss: 0.2558 - accuracy: 0.9083 - val_loss: 0.2581 - val_accuracy: 0.9051\n",
            "Epoch 11/50\n",
            "2000/2000 [==============================] - 19s 10ms/step - loss: 0.2528 - accuracy: 0.9104 - val_loss: 0.2104 - val_accuracy: 0.9233\n",
            "Epoch 12/50\n",
            "2000/2000 [==============================] - 19s 10ms/step - loss: 0.2473 - accuracy: 0.9107 - val_loss: 0.2051 - val_accuracy: 0.9261\n",
            "Epoch 13/50\n",
            "2000/2000 [==============================] - 19s 10ms/step - loss: 0.2427 - accuracy: 0.9129 - val_loss: 0.2189 - val_accuracy: 0.9212\n",
            "Epoch 14/50\n",
            "2000/2000 [==============================] - 20s 10ms/step - loss: 0.2412 - accuracy: 0.9137 - val_loss: 0.2132 - val_accuracy: 0.9223\n",
            "Epoch 15/50\n",
            "2000/2000 [==============================] - 20s 10ms/step - loss: 0.2394 - accuracy: 0.9155 - val_loss: 0.2042 - val_accuracy: 0.9248\n",
            "Epoch 16/50\n",
            "2000/2000 [==============================] - 21s 10ms/step - loss: 0.2345 - accuracy: 0.9157 - val_loss: 0.2148 - val_accuracy: 0.9259\n",
            "Epoch 17/50\n",
            "2000/2000 [==============================] - 20s 10ms/step - loss: 0.2345 - accuracy: 0.9158 - val_loss: 0.2382 - val_accuracy: 0.9134\n",
            "Epoch 18/50\n",
            "2000/2000 [==============================] - 20s 10ms/step - loss: 0.2304 - accuracy: 0.9166 - val_loss: 0.2169 - val_accuracy: 0.9207\n",
            "Epoch 19/50\n",
            "2000/2000 [==============================] - 20s 10ms/step - loss: 0.2288 - accuracy: 0.9181 - val_loss: 0.1975 - val_accuracy: 0.9293\n",
            "Epoch 20/50\n",
            "2000/2000 [==============================] - 20s 10ms/step - loss: 0.2258 - accuracy: 0.9187 - val_loss: 0.2188 - val_accuracy: 0.9235\n",
            "Epoch 21/50\n",
            "2000/2000 [==============================] - 20s 10ms/step - loss: 0.2214 - accuracy: 0.9207 - val_loss: 0.2217 - val_accuracy: 0.9212\n",
            "Epoch 22/50\n",
            "2000/2000 [==============================] - 21s 10ms/step - loss: 0.2232 - accuracy: 0.9205 - val_loss: 0.2040 - val_accuracy: 0.9265\n",
            "Epoch 23/50\n",
            "2000/2000 [==============================] - 20s 10ms/step - loss: 0.2206 - accuracy: 0.9213 - val_loss: 0.2137 - val_accuracy: 0.9253\n",
            "Epoch 24/50\n",
            "2000/2000 [==============================] - 21s 10ms/step - loss: 0.2209 - accuracy: 0.9206 - val_loss: 0.2108 - val_accuracy: 0.9250\n",
            "Epoch 25/50\n",
            "2000/2000 [==============================] - 21s 10ms/step - loss: 0.2181 - accuracy: 0.9207 - val_loss: 0.1964 - val_accuracy: 0.9296\n",
            "Epoch 26/50\n",
            "2000/2000 [==============================] - 20s 10ms/step - loss: 0.2138 - accuracy: 0.9239 - val_loss: 0.1997 - val_accuracy: 0.9284\n",
            "Epoch 27/50\n",
            "2000/2000 [==============================] - 20s 10ms/step - loss: 0.2159 - accuracy: 0.9228 - val_loss: 0.2094 - val_accuracy: 0.9245\n",
            "Epoch 28/50\n",
            "2000/2000 [==============================] - 20s 10ms/step - loss: 0.2159 - accuracy: 0.9234 - val_loss: 0.1964 - val_accuracy: 0.9281\n",
            "Epoch 29/50\n",
            "2000/2000 [==============================] - 20s 10ms/step - loss: 0.2136 - accuracy: 0.9231 - val_loss: 0.1986 - val_accuracy: 0.9266\n",
            "Epoch 30/50\n",
            "2000/2000 [==============================] - 20s 10ms/step - loss: 0.2107 - accuracy: 0.9260 - val_loss: 0.2133 - val_accuracy: 0.9204\n",
            "Epoch 31/50\n",
            "2000/2000 [==============================] - 20s 10ms/step - loss: 0.2091 - accuracy: 0.9249 - val_loss: 0.2033 - val_accuracy: 0.9278\n",
            "Epoch 32/50\n",
            "2000/2000 [==============================] - 20s 10ms/step - loss: 0.2095 - accuracy: 0.9261 - val_loss: 0.1953 - val_accuracy: 0.9298\n",
            "Epoch 33/50\n",
            "2000/2000 [==============================] - 20s 10ms/step - loss: 0.2070 - accuracy: 0.9269 - val_loss: 0.1983 - val_accuracy: 0.9288\n",
            "Epoch 34/50\n",
            "2000/2000 [==============================] - 20s 10ms/step - loss: 0.2102 - accuracy: 0.9249 - val_loss: 0.2021 - val_accuracy: 0.9259\n",
            "Epoch 35/50\n",
            "2000/2000 [==============================] - 20s 10ms/step - loss: 0.2060 - accuracy: 0.9257 - val_loss: 0.1975 - val_accuracy: 0.9311\n",
            "Epoch 36/50\n",
            "2000/2000 [==============================] - 20s 10ms/step - loss: 0.2034 - accuracy: 0.9281 - val_loss: 0.2057 - val_accuracy: 0.9267\n",
            "Epoch 37/50\n",
            "2000/2000 [==============================] - 21s 10ms/step - loss: 0.2067 - accuracy: 0.9269 - val_loss: 0.2000 - val_accuracy: 0.9307\n",
            "Epoch 38/50\n",
            "2000/2000 [==============================] - 21s 10ms/step - loss: 0.2033 - accuracy: 0.9272 - val_loss: 0.1897 - val_accuracy: 0.9301\n",
            "Epoch 39/50\n",
            "2000/2000 [==============================] - 21s 10ms/step - loss: 0.2027 - accuracy: 0.9279 - val_loss: 0.2036 - val_accuracy: 0.9248\n",
            "Epoch 40/50\n",
            "2000/2000 [==============================] - 20s 10ms/step - loss: 0.1999 - accuracy: 0.9278 - val_loss: 0.1872 - val_accuracy: 0.9314\n",
            "Epoch 41/50\n",
            "2000/2000 [==============================] - 20s 10ms/step - loss: 0.1977 - accuracy: 0.9303 - val_loss: 0.1971 - val_accuracy: 0.9281\n",
            "Epoch 42/50\n",
            "2000/2000 [==============================] - 20s 10ms/step - loss: 0.1990 - accuracy: 0.9289 - val_loss: 0.1893 - val_accuracy: 0.9342\n",
            "Epoch 43/50\n",
            "2000/2000 [==============================] - 20s 10ms/step - loss: 0.1973 - accuracy: 0.9309 - val_loss: 0.2071 - val_accuracy: 0.9277\n",
            "Epoch 44/50\n",
            "2000/2000 [==============================] - 20s 10ms/step - loss: 0.1959 - accuracy: 0.9292 - val_loss: 0.1877 - val_accuracy: 0.9344\n",
            "Epoch 45/50\n",
            "2000/2000 [==============================] - 20s 10ms/step - loss: 0.1978 - accuracy: 0.9304 - val_loss: 0.1931 - val_accuracy: 0.9313\n",
            "Epoch 46/50\n",
            "2000/2000 [==============================] - 20s 10ms/step - loss: 0.1957 - accuracy: 0.9312 - val_loss: 0.2121 - val_accuracy: 0.9227\n",
            "Epoch 47/50\n",
            "2000/2000 [==============================] - 20s 10ms/step - loss: 0.1952 - accuracy: 0.9302 - val_loss: 0.2024 - val_accuracy: 0.9288\n",
            "Epoch 48/50\n",
            "2000/2000 [==============================] - 20s 10ms/step - loss: 0.1929 - accuracy: 0.9316 - val_loss: 0.1947 - val_accuracy: 0.9288\n",
            "Epoch 49/50\n",
            "2000/2000 [==============================] - 20s 10ms/step - loss: 0.1904 - accuracy: 0.9313 - val_loss: 0.1857 - val_accuracy: 0.9310\n",
            "Epoch 50/50\n",
            "2000/2000 [==============================] - 21s 10ms/step - loss: 0.1950 - accuracy: 0.9301 - val_loss: 0.1980 - val_accuracy: 0.9295\n"
          ],
          "name": "stdout"
        }
      ]
    },
    {
      "cell_type": "code",
      "metadata": {
        "colab": {
          "base_uri": "https://localhost:8080/",
          "height": 282
        },
        "id": "Mq1dcRBaabt7",
        "outputId": "bb3d880e-5995-4c46-8f8d-48148973bde7"
      },
      "source": [
        "plt.plot(r.history['loss'], label = 'loss')\r\n",
        "plt.plot(r.history['val_loss'], label = 'val_loss')"
      ],
      "execution_count": 41,
      "outputs": [
        {
          "output_type": "execute_result",
          "data": {
            "text/plain": [
              "[<matplotlib.lines.Line2D at 0x7f16b200f4e0>]"
            ]
          },
          "metadata": {
            "tags": []
          },
          "execution_count": 41
        },
        {
          "output_type": "display_data",
          "data": {
            "image/png": "[encoded data removed]",
            "text/plain": [
              "<Figure size 432x288 with 1 Axes>"
            ]
          },
          "metadata": {
            "tags": [],
            "needs_background": "light"
          }
        }
      ]
    },
    {
      "cell_type": "code",
      "metadata": {
        "id": "-FnMCOjsefSb"
      },
      "source": [
        "#Hence we see a slight increase in the accuracy after using data augmentation.... Now the training error and validation error are side by side...\r\n",
        "#So the Model is not overfitting....\r\n",
        "# We used Dropout, Augmentation and Batch Norm to prevent overfitting in the data...."
      ],
      "execution_count": 42,
      "outputs": []
    },
    {
      "cell_type": "code",
      "metadata": {
        "id": "FcCaXgtOe7tE"
      },
      "source": [
        ""
      ],
      "execution_count": null,
      "outputs": []
    }
  ]
}